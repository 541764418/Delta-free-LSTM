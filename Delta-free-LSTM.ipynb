{
 "cells": [
  {
   "cell_type": "code",
   "execution_count": 22,
   "metadata": {
    "ExecuteTime": {
     "end_time": "2021-01-04T12:43:45.291798Z",
     "start_time": "2021-01-04T12:43:44.354062Z"
    }
   },
   "outputs": [],
   "source": [
    "from scipy.io import loadmat\n",
    "import numpy as np\n",
    "import pandas as pd\n",
    "import matplotlib.pyplot as plt\n",
    "import torch\n",
    "import torch.nn as nn\n",
    "import torch.nn.functional as F\n",
    "from sklearn.model_selection import train_test_split\n",
    "import hiddenlayer as hl\n",
    "from tqdm.notebook import tqdm\n",
    "from tqdm import tnrange\n",
    "import pdb\n",
    "from time import time\n",
    "t1 = time()\n",
    "device = torch.device(\"cuda\")"
   ]
  },
  {
   "cell_type": "markdown",
   "metadata": {},
   "source": [
    "# 参数设置"
   ]
  },
  {
   "cell_type": "code",
   "execution_count": 23,
   "metadata": {
    "ExecuteTime": {
     "end_time": "2021-01-04T12:43:45.298527Z",
     "start_time": "2021-01-04T12:43:45.293968Z"
    }
   },
   "outputs": [],
   "source": [
    "A1_list = [0.6]\n",
    "delta1_list = [0.2]\n",
    "delta2_list = [8]\n",
    "para_list = [[a1, d1, d2] for a1 in A1_list for d1 in delta1_list\n",
    "             for d2 in delta2_list]\n",
    "batch_size = 32\n",
    "lr = 0.001\n",
    "wd = 0.0000  #\n",
    "dropout = 0.  #\n",
    "epoch = 200\n",
    "flowlen = 12  # 输入长度\n",
    "in_size = 1  # 输入通道\n",
    "hid_size = 256\n",
    "num_layers = 1\n",
    "pred_size = 1  # 输出长度\n",
    "ch = 1  # 同in_size\n",
    "\n",
    "save_path = \"tflow.pth\""
   ]
  },
  {
   "cell_type": "markdown",
   "metadata": {},
   "source": [
    "# 反归一化"
   ]
  },
  {
   "cell_type": "code",
   "execution_count": 24,
   "metadata": {
    "ExecuteTime": {
     "end_time": "2021-01-04T12:43:45.303478Z",
     "start_time": "2021-01-04T12:43:45.300202Z"
    }
   },
   "outputs": [],
   "source": [
    "def InvNorm(tensor, d_1, d_2):\n",
    "    dminT = torch.tensor(d_1).to(tensor.device)\n",
    "    dmaxT = torch.tensor(d_2).to(tensor.device)\n",
    "    return tensor * (dmaxT - dminT) + dminT\n",
    "# def InvNorm(tensor, d_1, d_2):\n",
    "#     \"\"\"\n",
    "#     反归一化\n",
    "#     \"\"\"\n",
    "#     dstdT = torch.tensor(d_1).to(tensor.device)\n",
    "#     dmeanT = torch.tensor(d_2).to(tensor.device)\n",
    "#     return tensor * dstdT + dmeanT"
   ]
  },
  {
   "cell_type": "markdown",
   "metadata": {},
   "source": [
    "# 性能指标"
   ]
  },
  {
   "cell_type": "code",
   "execution_count": 25,
   "metadata": {
    "ExecuteTime": {
     "end_time": "2021-01-04T12:43:45.308892Z",
     "start_time": "2021-01-04T12:43:45.304765Z"
    }
   },
   "outputs": [],
   "source": [
    "class AverageValueMeter():\n",
    "    def __init__(self):\n",
    "        self.N=0\n",
    "        self.ave=0\n",
    "    \n",
    "    def add(self,x):\n",
    "        self.ave=self.N/(1+self.N)*self.ave+1/(1+self.N)*x\n",
    "        self.N+=1\n",
    "    \n",
    "    def reset(self):\n",
    "        self.N=0\n",
    "        self.ave=0\n",
    "    \n",
    "    def value(self):\n",
    "        return self.ave,self.N"
   ]
  },
  {
   "cell_type": "code",
   "execution_count": 26,
   "metadata": {
    "ExecuteTime": {
     "end_time": "2021-01-04T12:43:45.315677Z",
     "start_time": "2021-01-04T12:43:45.310297Z"
    }
   },
   "outputs": [],
   "source": [
    "def metric(real_output, pred_output, d_1, d_2):\n",
    "    '''\n",
    "    :param real_output:\n",
    "    :param pred_output:\n",
    "    :return:\n",
    "    '''\n",
    "    pred_output = InvNorm(pred_output, d_1, d_2).detach().cpu().numpy()\n",
    "    real_output = InvNorm(real_output, d_1, d_2).detach().cpu().numpy()\n",
    "    D_values = real_output - pred_output\n",
    "    n_samples = len(real_output)\n",
    "    D_values_square = np.square(D_values)\n",
    "    MSE = np.sum(D_values_square) / n_samples\n",
    "    RMSE = np.sqrt(MSE)\n",
    "    absoluted_D_values = np.absolute(D_values)\n",
    "    mape_list = []\n",
    "    for i in range(len(D_values)):\n",
    "        pred_real_divide = absoluted_D_values[i] / real_output[i]\n",
    "        mape_list.append(pred_real_divide)\n",
    "    MAPE = np.sum(mape_list) / n_samples\n",
    "    return RMSE, MAPE"
   ]
  },
  {
   "cell_type": "code",
   "execution_count": 27,
   "metadata": {
    "ExecuteTime": {
     "end_time": "2021-01-04T12:43:45.320405Z",
     "start_time": "2021-01-04T12:43:45.317038Z"
    }
   },
   "outputs": [],
   "source": [
    "def rmse(preds, labels, d_1, d_2, isNorm=True):\n",
    "    if isNorm:\n",
    "        preds = InvNorm(preds, d_1, d_2)\n",
    "        labels = InvNorm(labels, d_1, d_2)\n",
    "    loss = nn.MSELoss()(preds, labels)\n",
    "    RMSE = np.sqrt(loss.item())\n",
    "    return RMSE"
   ]
  },
  {
   "cell_type": "code",
   "execution_count": 28,
   "metadata": {
    "ExecuteTime": {
     "end_time": "2021-01-04T12:43:45.326909Z",
     "start_time": "2021-01-04T12:43:45.322736Z"
    }
   },
   "outputs": [],
   "source": [
    "def mape(preds, labels, d_1, d_2, isNorm=True):\n",
    "    if isNorm:\n",
    "        preds = InvNorm(preds, d_1, d_2)\n",
    "        labels = InvNorm(labels, d_1, d_2)\n",
    "    preds = preds.flatten().detach().cpu().numpy()\n",
    "    labels = labels.flatten().detach().cpu().numpy()\n",
    "    mask = labels != 0\n",
    "    return np.fabs((labels[mask] - preds[mask]) / labels[mask]).mean()"
   ]
  },
  {
   "cell_type": "markdown",
   "metadata": {},
   "source": [
    "# 加载数据"
   ]
  },
  {
   "cell_type": "code",
   "execution_count": 29,
   "metadata": {
    "ExecuteTime": {
     "end_time": "2021-01-04T12:43:45.336056Z",
     "start_time": "2021-01-04T12:43:45.328665Z"
    }
   },
   "outputs": [
    {
     "name": "stdout",
     "output_type": "stream",
     "text": [
      "(5040, 1)\n",
      "(4032, 1) (1008, 1)\n"
     ]
    }
   ],
   "source": [
    "ori_data = loadmat(\"corrected_data.mat\")\n",
    "# 确定使用哪条道路的数据\n",
    "stack_data = np.hstack([\n",
    "     ori_data[\"A1_10min\"],\n",
    "#     ori_data[\"A2_10min\"],\n",
    "#     ori_data[\"A4_10min\"],\n",
    "#     ori_data[\"A8_10min\"],\n",
    "])\n",
    "print(stack_data.shape)\n",
    "# plt.plot(stack_data[0])\n",
    "# 最大最小归一化\n",
    "d_1 = stack_data.min()\n",
    "d_2 = stack_data.max()\n",
    "stack_data = (stack_data - d_1) / (d_2 - d_1)\n",
    "# 高斯归一化\n",
    "# d_1 = np.std(stack_data, axis=0)\n",
    "# d_2 = np.mean(stack_data, axis=0)\n",
    "# stack_data = (stack_data - d_2) / d_1\n",
    "\n",
    "# 训练：测试=8：2\n",
    "trainD, testD = stack_data[:int(stack_data.shape[0] *\n",
    "                                0.8), :], stack_data[int(stack_data.shape[0] *\n",
    "                                                          0.8):, :]\n",
    "print(trainD.shape, testD.shape)"
   ]
  },
  {
   "cell_type": "markdown",
   "metadata": {},
   "source": [
    "# 数据集"
   ]
  },
  {
   "cell_type": "code",
   "execution_count": null,
   "metadata": {
    "ExecuteTime": {
     "end_time": "2021-01-04T12:43:45.342921Z",
     "start_time": "2021-01-04T12:43:45.337361Z"
    }
   },
   "outputs": [],
   "source": [
    "class TFDataset(torch.utils.data.Dataset):\n",
    "    def __init__(self, in_num, out_num, dataset):\n",
    "        super().__init__()\n",
    "        self.in_num = in_num\n",
    "        self.out_num = out_num\n",
    "        self.dataset = dataset\n",
    "\n",
    "    def __getitem__(self, index):\n",
    "        index += 1\n",
    "        in_item = self.dataset[index:index + self.in_num, :]\n",
    "        out_item = self.dataset[index + self.in_num:index + self.in_num +\n",
    "                                self.out_num, :]\n",
    "        dec_inp = np.copy(self.dataset[index - 1:index + self.in_num - 1, :])\n",
    "        # 初始化解码器的第一个输入\n",
    "        dec_inp[0, :] = 0.5\n",
    "        return in_item, out_item, dec_inp\n",
    "\n",
    "    def __len__(self):\n",
    "        return self.dataset.shape[0] - self.in_num - self.out_num - 1"
   ]
  },
  {
   "cell_type": "code",
   "execution_count": null,
   "metadata": {
    "ExecuteTime": {
     "end_time": "2021-01-04T12:43:45.482169Z",
     "start_time": "2021-01-04T12:43:45.344442Z"
    }
   },
   "outputs": [
    {
     "name": "stdout",
     "output_type": "stream",
     "text": [
      "(12, 1) (1, 1) (12, 1)\n"
     ]
    },
    {
     "data": {
      "text/plain": [
       "[<matplotlib.lines.Line2D at 0x8f5ef0>]"
      ]
     },
     "execution_count": 31,
     "metadata": {},
     "output_type": "execute_result"
    },
    {
     "data": {
      "image/png": "[encoded data removed]",
      "text/plain": [
       "<Figure size 432x288 with 1 Axes>"
      ]
     },
     "metadata": {
      "needs_background": "light"
     },
     "output_type": "display_data"
    }
   ],
   "source": [
    "# 看看数据集输出是否符合预期\n",
    "d=TFDataset(12,1,trainD)\n",
    "a=iter(d)\n",
    "b=next(a)\n",
    "print(b[0].shape,b[1].shape,b[2].shape)\n",
    "plt.plot(b[0])\n",
    "plt.plot(b[2])"
   ]
  },
  {
   "cell_type": "markdown",
   "metadata": {},
   "source": [
    "# 重构网络"
   ]
  },
  {
   "cell_type": "markdown",
   "metadata": {},
   "source": [
    "## Seq2Seq+Attention\n",
    "\n",
    "* 参考网址 https://zhuanlan.zhihu.com/p/135970560 的option2"
   ]
  },
  {
   "cell_type": "code",
   "execution_count": null,
   "metadata": {
    "ExecuteTime": {
     "end_time": "2021-01-04T12:43:45.498042Z",
     "start_time": "2021-01-04T12:43:45.483849Z"
    }
   },
   "outputs": [],
   "source": [
    "class S2SnetAtt(nn.Module):\n",
    "    def __init__(\n",
    "        self,\n",
    "        flowlen,\n",
    "        in_size,\n",
    "        hid_size,\n",
    "        num_layers,\n",
    "    ):\n",
    "        super().__init__()\n",
    "        self.flowlen = flowlen\n",
    "        self.in_size = in_size\n",
    "        self.hid_size = hid_size\n",
    "        self.num_layers = num_layers\n",
    "\n",
    "        self.encoder = nn.LSTM(\n",
    "            input_size=self.in_size,\n",
    "            hidden_size=self.hid_size,\n",
    "            num_layers=self.num_layers,\n",
    "            batch_first=True,\n",
    "        )\n",
    "        self.decoder = nn.LSTM(\n",
    "            input_size=self.in_size + self.hid_size,\n",
    "            hidden_size=self.hid_size,\n",
    "            num_layers=self.num_layers,\n",
    "            batch_first=True,\n",
    "        )\n",
    "\n",
    "        self.Wk = nn.Parameter(torch.rand((hid_size, hid_size)))\n",
    "        self.Wq = nn.Parameter(torch.rand((hid_size, hid_size)))\n",
    "        self.fc = nn.Linear(hid_size * flowlen, flowlen, bias=True)\n",
    "\n",
    "    def forward(self, enc_x, dec_x):\n",
    "        bs, le, ch = enc_x.shape\n",
    "        enc_o, last_hid, ct = self.encoder_forward(enc_x)\n",
    "        # atn\n",
    "        out = self.decoder_forward(enc_o, last_hid, ct, dec_x)\n",
    "        out_fc = self.fc(out.reshape(bs, -1)).reshape(bs, le, ch)\n",
    "        return out_fc\n",
    "\n",
    "    def encoder_forward(self, x):\n",
    "        enc_o, (h, c) = self.encoder(x)\n",
    "        # torch.Size([20, 12, 256]) torch.Size([2, 20, 256]) torch.Size([2, 20, 256])\n",
    "        return enc_o, h, c\n",
    "\n",
    "    def attention_forward(self, enc_o, last_hid):\n",
    "        bs = enc_o.shape[0]\n",
    "        S0 = last_hid[-1].unsqueeze(1)  # [20,1,256]\n",
    "        hi = enc_o  # [20,12,256]\n",
    "        ki = torch.bmm(hi, self.Wk.expand(bs, self.hid_size,\n",
    "                                          self.hid_size))  # [20,12,256]\n",
    "        qt = torch.bmm(S0, self.Wq.expand(bs, self.hid_size,\n",
    "                                          self.hid_size))  # [20,1,256]\n",
    "        qt = qt.permute(0, 2, 1)  # [20,256,1]\n",
    "        alpha = torch.bmm(ki, qt)  # [20,12,1]\n",
    "        alpha = torch.softmax(alpha, dim=1)  # [20,12,1]\n",
    "        context = torch.sum(alpha * enc_o, dim=1)  # [20,256]\n",
    "        return context\n",
    "\n",
    "    def decoder_forward(self, enc_o, last_hid, c, dec_x=None, dec_size=None):\n",
    "        if dec_x is not None:\n",
    "            # 每时刻解码器的输入为上一刻标签\n",
    "            bs, le, ch = dec_x.shape  # [20,12,1]\n",
    "            out_list = list()\n",
    "            for i in range(le):\n",
    "                context = self.attention_forward(enc_o, last_hid)\n",
    "                context = context.unsqueeze(1)  # [20,256]->[20,1,256]\n",
    "                dec_inp = torch.cat([dec_x[:, i, :].unsqueeze(1), context],\n",
    "                                    dim=2)  # [20,1,1+ 256]\n",
    "                out, (last_hid, c) = self.decoder(dec_inp, (last_hid, c))\n",
    "                out_list.append(out)\n",
    "            out = torch.cat(out_list, dim=1)# [20,12,256]\n",
    "        else:\n",
    "            # 每时刻解码器的输入为上一刻编码器的输出\n",
    "            pass\n",
    "        return out"
   ]
  },
  {
   "cell_type": "markdown",
   "metadata": {},
   "source": [
    "## seq2seq重构\n",
    "* 点1到12 输入 编码器，输出 ht，ct\n",
    "* 点0和1到11 以及ht，ct输入 解码器，重构点1到12"
   ]
  },
  {
   "cell_type": "code",
   "execution_count": null,
   "metadata": {
    "ExecuteTime": {
     "end_time": "2021-01-04T12:43:45.507652Z",
     "start_time": "2021-01-04T12:43:45.499672Z"
    }
   },
   "outputs": [],
   "source": [
    "class S2Snet(nn.Module):\n",
    "    def __init__(\n",
    "        self,\n",
    "        flowlen,\n",
    "        in_size,\n",
    "        hid_size,\n",
    "        num_layers,\n",
    "    ):\n",
    "        super().__init__()\n",
    "        self.flowlen = flowlen\n",
    "        self.in_size = in_size\n",
    "        self.hid_size = hid_size\n",
    "        self.num_layers = num_layers\n",
    "\n",
    "        self.encoder = nn.LSTM(\n",
    "            input_size=self.in_size,\n",
    "            hidden_size=self.hid_size,\n",
    "            num_layers=self.num_layers,\n",
    "            batch_first=True,\n",
    "        )\n",
    "        self.decoder = nn.LSTM(\n",
    "            input_size=self.in_size,\n",
    "            hidden_size=self.hid_size,\n",
    "            num_layers=self.num_layers,\n",
    "            batch_first=True,\n",
    "        )\n",
    "        self.fc = nn.Linear(hid_size * flowlen, flowlen, bias=True)\n",
    "\n",
    "    def forward(self, enc_x, dec_x):\n",
    "        bs, le, ch = enc_x.shape\n",
    "        context = self.encoder_forward(enc_x)\n",
    "        out = self.decoder_forward(context, dec_x)\n",
    "        out_fc = self.fc(out.reshape(bs, -1)).reshape(bs, le , ch)\n",
    "#         print(context[0].shape, context[1].shape, out.shape, out_fc.shape)\n",
    "        return out_fc\n",
    "\n",
    "    def encoder_forward(self, x):\n",
    "        _, hc = self.encoder(x)\n",
    "        return hc\n",
    "\n",
    "    def decoder_forward(self, context, dec_x=None, dec_size=None):\n",
    "        if dec_x is not None:\n",
    "            # 每时刻解码器的输入为上一刻标签\n",
    "            out, _ = self.decoder(dec_x, context)\n",
    "        else:\n",
    "            # 每时刻解码器的输入为上一刻编码器的输出\n",
    "            pass\n",
    "        return out"
   ]
  },
  {
   "cell_type": "markdown",
   "metadata": {},
   "source": [
    "## 卷积自编码器"
   ]
  },
  {
   "cell_type": "code",
   "execution_count": null,
   "metadata": {
    "ExecuteTime": {
     "end_time": "2021-01-04T12:43:45.515187Z",
     "start_time": "2021-01-04T12:43:45.509229Z"
    }
   },
   "outputs": [],
   "source": [
    "class CAE(nn.Module):\n",
    "    def __init__(self, flowlen):\n",
    "        super().__init__()\n",
    "        self.flowlen = flowlen\n",
    "        self.conv = nn.Sequential(\n",
    "            nn.Conv1d(flowlen, 64, kernel_size=3, stride=1, padding=1),\n",
    "            nn.Tanh(),\n",
    "            nn.Conv1d(64, 128, kernel_size=3, stride=1, padding=1),\n",
    "            nn.Tanh(),\n",
    "            nn.Conv1d(128, self.flowlen, kernel_size=3, stride=1, padding=1),\n",
    "        )\n",
    "        self.fc = nn.Sequential(\n",
    "            nn.Linear(self.flowlen, 64, bias=True),\n",
    "            nn.Sigmoid(),\n",
    "            nn.Linear(64, self.flowlen, bias=False),\n",
    "        )\n",
    "\n",
    "    def forward(self, x):\n",
    "        bs,le,ch=x.shape\n",
    "        x = x.reshape(bs,-1)\n",
    "        out=self.fc(x)\n",
    "        out=out.reshape(bs,le,ch)\n",
    "        return out"
   ]
  },
  {
   "cell_type": "markdown",
   "metadata": {},
   "source": [
    "# 预测网络"
   ]
  },
  {
   "cell_type": "markdown",
   "metadata": {},
   "source": [
    "## LSTM+Attention 预测\n",
    "\n",
    "* https://www.cnblogs.com/cxq1126/p/13504437.html\n",
    "* 形式一"
   ]
  },
  {
   "cell_type": "code",
   "execution_count": null,
   "metadata": {
    "ExecuteTime": {
     "end_time": "2021-01-04T12:43:45.525000Z",
     "start_time": "2021-01-04T12:43:45.516728Z"
    }
   },
   "outputs": [],
   "source": [
    "class LstmAttNet(nn.Module):\n",
    "    def __init__(self, in_size, hid_size, num_layers, out_size, dropout=0):\n",
    "        super().__init__()\n",
    "        self.in_size = in_size\n",
    "        self.hid_size = hid_size\n",
    "        self.num_layers = num_layers\n",
    "        self.out_size = out_size\n",
    "        self.lstm = nn.LSTM(\n",
    "            input_size=self.in_size,\n",
    "            hidden_size=self.hid_size,\n",
    "            num_layers=self.num_layers,\n",
    "            batch_first=True,\n",
    "        )\n",
    "        self.Dropout = nn.Dropout(dropout)\n",
    "        self.linear = nn.Linear(in_features=self.hid_size,\n",
    "                                out_features=self.out_size)\n",
    "\n",
    "    def attention_forward(self, lstm_out, query):\n",
    "        \"\"\"\n",
    "        lstm_out# [20,12,256]\n",
    "        query# [20,12,256]\n",
    "        \"\"\"\n",
    "        d_k = query.shape[-1]\n",
    "        scores = torch.bmm(query, lstm_out.permute(0, 2, 1)) / np.sqrt(\n",
    "            d_k)  # [20,12,12]\n",
    "        p_attn = torch.softmax(scores, dim=2)  # [20,12,12]\n",
    "        context = torch.bmm(p_attn, lstm_out)  # [20,12,256]\n",
    "        context = torch.sum(context, dim=1)  # [20,256]\n",
    "        return context, p_attn\n",
    "\n",
    "    def forward(self, x):\n",
    "        bs,le,ch=x.shape\n",
    "        out, (h, c) = self.lstm(x)\n",
    "        # 两种不同的方式：\n",
    "        # 1.\n",
    "        # query=self.Dropout(out)\n",
    "        # 2.\n",
    "        query=h[-1].unsqueeze(1).repeat(1,le,1)\n",
    "        \n",
    "        context, _ = self.attention_forward(out, query)\n",
    "        # 取最后一刻的输出，reshape成原本的样子\n",
    "        out = self.linear(context).reshape((x.shape[0], -1, self.in_size))\n",
    "        return out\n"
   ]
  },
  {
   "cell_type": "markdown",
   "metadata": {},
   "source": [
    "## LSTM"
   ]
  },
  {
   "cell_type": "code",
   "execution_count": null,
   "metadata": {
    "ExecuteTime": {
     "end_time": "2021-01-04T12:43:45.532117Z",
     "start_time": "2021-01-04T12:43:45.526549Z"
    }
   },
   "outputs": [],
   "source": [
    "class LstmNet(nn.Module):\n",
    "    def __init__(self, in_size, hid_size, num_layers, out_size, dropout=0):\n",
    "        super().__init__()\n",
    "        self.in_size = in_size\n",
    "        self.hid_size = hid_size\n",
    "        self.num_layers = num_layers\n",
    "        self.out_size = out_size\n",
    "        self.lstm = nn.LSTM(\n",
    "                input_size=self.in_size,\n",
    "                hidden_size=self.hid_size,\n",
    "                num_layers=self.num_layers,\n",
    "                batch_first=True,\n",
    "            )\n",
    "        self.Dropout=nn.Dropout(dropout)\n",
    "        self.linear = nn.Linear(in_features=self.hid_size,\n",
    "                                out_features=self.out_size)\n",
    "\n",
    "    def forward(self, x):\n",
    "        out, (h, c) = self.lstm(x)\n",
    "        #  取最后一刻的输出，reshape成原本的样子\n",
    "        out = self.linear(self.Dropout(out[:, -1, :])).reshape(\n",
    "            (x.shape[0], -1, self.in_size))\n",
    "        return out"
   ]
  },
  {
   "cell_type": "markdown",
   "metadata": {},
   "source": [
    "# 训练"
   ]
  },
  {
   "cell_type": "markdown",
   "metadata": {},
   "source": [
    "## 训练准备"
   ]
  },
  {
   "cell_type": "code",
   "execution_count": null,
   "metadata": {
    "ExecuteTime": {
     "end_time": "2021-01-04T12:43:45.537675Z",
     "start_time": "2021-01-04T12:43:45.533499Z"
    }
   },
   "outputs": [],
   "source": [
    "train_ds = TFDataset(flowlen, pred_size, trainD)\n",
    "train_dl = torch.utils.data.DataLoader(train_ds,\n",
    "                                       batch_size=batch_size,\n",
    "                                       shuffle=True,\n",
    "                                       num_workers=0,\n",
    "                                       drop_last=False)\n",
    "test_ds = TFDataset(flowlen, pred_size, testD)\n",
    "test_dl = torch.utils.data.DataLoader(test_ds,\n",
    "                                      batch_size=testD.shape[0],\n",
    "                                      shuffle=False,\n",
    "                                      num_workers=0,\n",
    "                                      drop_last=False)\n",
    "MSELoss = nn.MSELoss()\n",
    "CELoss = nn.CrossEntropyLoss()"
   ]
  },
  {
   "cell_type": "markdown",
   "metadata": {},
   "source": [
    "## 训练循环"
   ]
  },
  {
   "cell_type": "code",
   "execution_count": null,
   "metadata": {
    "ExecuteTime": {
     "end_time": "2021-01-04T12:44:28.393037Z",
     "start_time": "2021-01-04T12:43:45.539302Z"
    },
    "scrolled": false
   },
   "outputs": [
    {
     "name": "stdout",
     "output_type": "stream",
     "text": [
      "A1:0.6,delta1:0.2,delta2:8\n"
     ]
    },
    {
     "data": {
      "application/vnd.jupyter.widget-view+json": {
       "model_id": "7bd77beb0b594a8c8d8e16d52d5bb1c8",
       "version_major": 2,
       "version_minor": 0
      },
      "text/plain": [
       "HBox(children=(FloatProgress(value=0.0, max=200.0), HTML(value='')))"
      ]
     },
     "metadata": {},
     "output_type": "display_data"
    }
   ],
   "source": [
    "for A1, delta1, delta2 in para_list:\n",
    "    print(\"A1:{0},delta1:{1},delta2:{2}\".format(A1, delta1, delta2))\n",
    "    tfae = S2SnetAtt(flowlen, in_size, hid_size, num_layers).to(device)\n",
    "\n",
    "    tfnet = LstmNet(in_size, hid_size, num_layers, pred_size * in_size,\n",
    "                    dropout).to(device)\n",
    "\n",
    "    tfopae = torch.optim.Adam(tfae.parameters(), lr=lr, weight_decay=wd)\n",
    "    tfop = torch.optim.Adam(tfnet.parameters(), lr=lr, weight_decay=wd)\n",
    "    scheduler = torch.optim.lr_scheduler.StepLR(tfop, step_size=100, gamma=0.1)\n",
    "    schedulerae = torch.optim.lr_scheduler.StepLR(tfopae,\n",
    "                                                  step_size=100,\n",
    "                                                  gamma=0.1)\n",
    "    scheduler.last_epoch = 0\n",
    "\n",
    "    his = hl.History()\n",
    "    cav = hl.Canvas()\n",
    "    best_loss = 9999\n",
    "    loss_avg = AverageValueMeter()\n",
    "    aeloss_avg = AverageValueMeter()\n",
    "    mseloss_avg = AverageValueMeter()\n",
    "    RMSE = 0\n",
    "    MAPE = 0\n",
    "    ifae = False  # 是否使用自编码器进行重建\n",
    "    pbar = tqdm(range(epoch))  # 训练进度指示器\n",
    "    for e in pbar:\n",
    "        pbar.set_description(desc=\"R %.3f M %.6f\" % (RMSE, MAPE))\n",
    "        loss_avg.reset()\n",
    "        aeloss_avg.reset()\n",
    "        mseloss_avg.reset()\n",
    "        tfae.train()\n",
    "        tfnet.train()\n",
    "        for i, (inp, future, dec_inp) in enumerate(train_dl):\n",
    "            inp = inp.float().to(device)\n",
    "            future = future.float().to(device)\n",
    "            dec_inp = dec_inp.float().to(device)\n",
    "            # 重构\n",
    "            if ifae:\n",
    "                outae = tfae(inp, dec_inp)\n",
    "                out = tfnet(outae)\n",
    "            # LSTM预测, 把outae换成inp可以训练LSTM直接接受标签输入\n",
    "            else:\n",
    "                out = tfnet(inp)\n",
    "\n",
    "            # 损失函数\n",
    "            if ifae:\n",
    "                aeloss = MSELoss(outae.detach(), inp)\n",
    "            mseloss = 1. - torch.exp(-0.5 * MSELoss(out, future))\n",
    "            #mseloss = MSELoss(out, future)\n",
    "            if ifae:\n",
    "                loss = mseloss + aeloss\n",
    "            else:\n",
    "                loss = mseloss\n",
    "\n",
    "            if ifae:\n",
    "                tfopae.zero_grad()\n",
    "            tfop.zero_grad()\n",
    "            loss.backward()\n",
    "            if ifae:\n",
    "                tfopae.step()\n",
    "            tfop.step()\n",
    "            loss_avg.add(loss.item())\n",
    "            if ifae:\n",
    "                aeloss_avg.add(aeloss.item())\n",
    "            mseloss_avg.add(mseloss.item())\n",
    "\n",
    "        RMSE = rmse(out, future, d_1, d_2)\n",
    "        MAPE = mape(out, future, d_1, d_2)\n",
    "        # 记录指标\n",
    "        his.log(\n",
    "            e,\n",
    "            loss=loss_avg.value()[0],\n",
    "            aeloss=aeloss_avg.value()[0],\n",
    "            mseloss=mseloss_avg.value()[0],\n",
    "            RMSE=RMSE,\n",
    "            MAPE=MAPE,\n",
    "        )\n",
    "\n",
    "        testRMSE = 0\n",
    "        testMAPE = 0\n",
    "        testAELoss = 0\n",
    "        testmseloss = 0\n",
    "        # ptstd = torch.tensor(std).reshape((1, 1, 4)).to(device)\n",
    "        # ptmean = torch.tensor(mean).reshape((1, 1, 4)).to(device)\n",
    "        with torch.no_grad():\n",
    "            tfnet.eval()\n",
    "            tfae.eval()\n",
    "            for i, (inp, future, dec_inp) in enumerate(test_dl):\n",
    "                inp = inp.float().to(device)\n",
    "                future = future.float().to(device)\n",
    "                dec_inp = dec_inp.float().to(device)\n",
    "                if ifae:\n",
    "                    outae = tfae(inp, dec_inp)\n",
    "                    out = tfnet(outae)\n",
    "                else:\n",
    "                    out = tfnet(inp)\n",
    "                # 这里应该跟上边训练的损失一致\n",
    "                testmseloss += MSELoss(out, future).item()\n",
    "                r, m = metric(future, out, d_1, d_2)\n",
    "                if ifae:\n",
    "                    aeloss = MSELoss(outae, inp)\n",
    "                    testAELoss += aeloss.item()\n",
    "                testRMSE += r\n",
    "                testMAPE += m\n",
    "\n",
    "            testRMSE /= i + 1\n",
    "            testMAPE /= i + 1\n",
    "            testmseloss /= i + 1\n",
    "            testAELoss /= i + 1\n",
    "            f = open(\n",
    "                \"A1testRMSE-AttLSTM\" +\n",
    "                \"_{0}_{1}_{2}\".format(A1, delta1, delta2) + \".txt\", 'a')\n",
    "            f.write(str(testRMSE) + '\\n')\n",
    "            f.close()\n",
    "\n",
    "            his.log(\n",
    "                e,\n",
    "                testmseloss=testmseloss,\n",
    "                testRMSE=testRMSE,\n",
    "                testMAPE=testMAPE,\n",
    "            )\n",
    "\n",
    "        # 根据loss来保存最优模型\n",
    "        if loss_avg.value()[0] <= best_loss:\n",
    "            best_loss = loss_avg.value()[0]\n",
    "            state = {\n",
    "                'tfnet': tfnet.state_dict(),\n",
    "                'tfae': tfae.state_dict(),\n",
    "            }\n",
    "            torch.save(state, save_path)\n",
    "        # 步长调整\n",
    "        scheduler.step()\n",
    "        if ifae:\n",
    "            schedulerae.step()\n",
    "    # 绘制指标\n",
    "#     with cav:\n",
    "#         cav.draw_plot([\n",
    "#             his[\"loss\"],\n",
    "#             his[\"aeloss\"],\n",
    "#             his[\"mseloss\"],\n",
    "#             his[\"testmseloss\"],\n",
    "#         ])\n",
    "#         cav.draw_plot([\n",
    "#             his[\"RMSE\"],\n",
    "#             his[\"MAPE\"],\n",
    "#         ])\n",
    "#         cav.draw_plot([\n",
    "#             his[\"testRMSE\"],\n",
    "#             his[\"testMAPE\"],\n",
    "#         ])"
   ]
  },
  {
   "cell_type": "markdown",
   "metadata": {},
   "source": [
    "# 测试"
   ]
  },
  {
   "cell_type": "code",
   "execution_count": null,
   "metadata": {
    "ExecuteTime": {
     "end_time": "2021-01-04T12:44:28.394883Z",
     "start_time": "2021-01-04T12:43:44.385Z"
    }
   },
   "outputs": [],
   "source": [
    "## test_ds = TFDataset(flowlen, pred_size, testD)\n",
    "test_dl = torch.utils.data.DataLoader(test_ds,\n",
    "                                      batch_size=testD.shape[0],\n",
    "                                      shuffle=False,\n",
    "                                      num_workers=0,\n",
    "                                      drop_last=False)\n",
    "# 注释掉加载则可以使用训练最后一轮的模型权重进行测试\n",
    "checkpoint = torch.load(save_path)\n",
    "tfnet.load_state_dict(checkpoint['tfnet'])\n",
    "tfae.load_state_dict(checkpoint['tfae'])\n",
    "tfnet.eval()\n",
    "tfae.eval()\n",
    "RMSE = 0\n",
    "MAPE = 0\n",
    "AELoss = 0\n",
    "# ptstd = torch.tensor(std).reshape((1, 1, 4)).to(device)\n",
    "# ptmean = torch.tensor(mean).reshape((1, 1, 4)).to(device)\n",
    "with torch.no_grad():\n",
    "    for i, (inp, future, dec_inp) in tqdm(enumerate(test_dl),\n",
    "                                          total=test_dl.__len__(),\n",
    "                                          leave=False):\n",
    "        inp = inp.float().to(device)\n",
    "        future = future.float().to(device)\n",
    "        dec_inp = dec_inp.float().to(device)\n",
    "        if ifae:\n",
    "            outae = tfae(inp, dec_inp)\n",
    "            out = tfnet(outae)\n",
    "        else:\n",
    "            out = tfnet(inp)\n",
    "        r, m = metric(future, out, d_1, d_2)\n",
    "        if ifae:\n",
    "            aeloss = MSELoss(outae, inp)\n",
    "            AELoss += aeloss.item()\n",
    "        RMSE += r\n",
    "        MAPE += m\n",
    "            \n",
    "    RMSE /= i + 1\n",
    "    MAPE /= i + 1\n",
    "    AELoss /= i + 1\n",
    "    print(\"RMSE {:.4f},MAPE {:.6f},AELoss {:.6f}\".format(RMSE, MAPE*100, AELoss))\n",
    "    print(i)\n",
    "# bs = 0\n",
    "# road_ch = 0\n",
    "# plt.figure(figsize=(4, 4))\n",
    "# i = inp[bs, :, road_ch].detach().cpu().numpy()\n",
    "# p = future[bs, :, road_ch].detach().cpu().numpy()\n",
    "# o = out[bs, :, road_ch].detach().cpu().numpy()\n",
    "# p = np.concatenate((i, p))\n",
    "# o = np.concatenate((i, o))\n",
    "# plt.plot(p, label=\"future\")\n",
    "# plt.plot(o, label=\"pred\")\n",
    "# plt.legend(loc='upper right')\n",
    "t2 = time()\n",
    "time = t2 - t1\n",
    "print(f\"time:{time}sec\")"
   ]
  },
  {
   "cell_type": "code",
   "execution_count": null,
   "metadata": {},
   "outputs": [],
   "source": []
  }
 ],
 "metadata": {
  "kernelspec": {
   "display_name": "Python 3",
   "language": "python",
   "name": "python3"
  },
  "language_info": {
   "codemirror_mode": {
    "name": "ipython",
    "version": 3
   },
   "file_extension": ".py",
   "mimetype": "text/x-python",
   "name": "python",
   "nbconvert_exporter": "python",
   "pygments_lexer": "ipython3",
   "version": "3.7.3"
  },
  "toc": {
   "base_numbering": 1,
   "nav_menu": {},
   "number_sections": true,
   "sideBar": true,
   "skip_h1_title": false,
   "title_cell": "Table of Contents",
   "title_sidebar": "Contents",
   "toc_cell": false,
   "toc_position": {
    "height": "758px",
    "left": "22px",
    "top": "111.133px",
    "width": "217.8px"
   },
   "toc_section_display": true,
   "toc_window_display": true
  }
 },
 "nbformat": 4,
 "nbformat_minor": 4
}
